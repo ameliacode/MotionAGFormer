{
 "cells": [
  {
   "cell_type": "code",
   "execution_count": 1,
   "id": "cf582e44-36e4-4323-b7f0-6706937dcc07",
   "metadata": {},
   "outputs": [],
   "source": [
    "import numpy as np\n",
    "import shutil\n",
    "import glob\n",
    "import os"
   ]
  },
  {
   "cell_type": "code",
   "execution_count": 2,
   "id": "6cb8e28f-e8a6-4962-818c-41aa483ec821",
   "metadata": {},
   "outputs": [],
   "source": [
    "files = glob.glob(\"D:\\\\github\\\\FS-Jump3D\\\\data\\\\npy\\\\**\\\\*.npy\", recursive=True)\n",
    "output_dir = \"D:\\\\github\\\\MotionAGFormer\\\\data\\\\keypoints\""
   ]
  },
  {
   "cell_type": "code",
   "execution_count": 3,
   "id": "1997468c-5e49-477b-ba85-84e816559943",
   "metadata": {},
   "outputs": [
    {
     "name": "stdout",
     "output_type": "stream",
     "text": [
      "Copied 253 files\n"
     ]
    }
   ],
   "source": [
    "for file in files:\n",
    "   parts = file.split(os.sep)\n",
    "   skater = parts[-3].lower()  # Skater_A -> skater_a\n",
    "   filename = os.path.splitext(parts[-1])[0].lower()  # Axel_1.npy -> axel_1\n",
    "   for cam_id in range(12):\n",
    "       new_name = f\"{skater}_cam_{cam_id+1}_{filename}_3D.npy\"\n",
    "       shutil.copy(file, os.path.join(output_dir, new_name))\n",
    "\n",
    "print(f\"Copied {len(files)} files\")"
   ]
  },
  {
   "cell_type": "code",
   "execution_count": null,
   "id": "4e019755-257c-484f-8286-82ff2f150ec2",
   "metadata": {},
   "outputs": [],
   "source": []
  }
 ],
 "metadata": {
  "kernelspec": {
   "display_name": "Python 3",
   "language": "python",
   "name": "python3"
  },
  "language_info": {
   "codemirror_mode": {
    "name": "ipython",
    "version": 3
   },
   "file_extension": ".py",
   "mimetype": "text/x-python",
   "name": "python",
   "nbconvert_exporter": "python",
   "pygments_lexer": "ipython3",
   "version": "3.11.8"
  }
 },
 "nbformat": 4,
 "nbformat_minor": 5
}
