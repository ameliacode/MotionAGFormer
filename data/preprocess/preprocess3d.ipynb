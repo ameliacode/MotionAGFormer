{
 "cells": [
  {
   "cell_type": "code",
   "execution_count": 3,
   "id": "cf582e44-36e4-4323-b7f0-6706937dcc07",
   "metadata": {},
   "outputs": [],
   "source": [
    "import numpy as np\n",
    "import glob\n",
    "import os\n",
    "import sys\n",
    "sys.path.append(os.path.dirname(os.path.dirname(os.getcwd())))\n",
    "\n",
    "from tqdm import tqdm\n",
    "\n",
    "import cv2\n",
    "from utils.utils_lcn import infer_box, camera_to_image_frame\n",
    "from utils.utils_hpe import optimize_scaling_factor"
   ]
  },
  {
   "cell_type": "code",
   "execution_count": 4,
   "id": "6cb8e28f-e8a6-4962-818c-41aa483ec821",
   "metadata": {},
   "outputs": [],
   "source": [
    "files = glob.glob(\"D:\\\\github\\\\FS-Jump3D\\\\data\\\\npy\\\\**\\\\*.npy\", recursive=True)\n",
    "output_dir = \"D:\\\\github\\\\MotionAGFormer\\\\data\\\\keypoints\""
   ]
  },
  {
   "cell_type": "code",
   "execution_count": 5,
   "id": "1997468c-5e49-477b-ba85-84e816559943",
   "metadata": {},
   "outputs": [
    {
     "name": "stderr",
     "output_type": "stream",
     "text": [
      "100%|██████████| 253/253 [00:01<00:00, 134.53it/s]\n"
     ]
    }
   ],
   "source": [
    "for file in tqdm(files):\n",
    "    parts = file.split(os.sep)\n",
    "    skater = parts[-3].lower()\n",
    "    filename = os.path.splitext(parts[-1])[0].lower()\n",
    "\n",
    "    data = np.load(file)\n",
    "    data[:, :, [1, 2]] = data[:, :, [2, 1]]  # Swap Y and Z\n",
    "    data[:, :, 1] = -data[:, :, 1]  # Flip Y axis\n",
    "\n",
    "    for cam_id in range(12):\n",
    "        new_name = f\"{skater}_cam_{cam_id+1}_{filename}_3D.npy\"\n",
    "        np.save(os.path.join(output_dir, new_name), data)"
   ]
  },
  {
   "cell_type": "markdown",
   "id": "2cca0bcf",
   "metadata": {},
   "source": [
    "## Generate PKL"
   ]
  },
  {
   "cell_type": "code",
   "execution_count": 6,
   "id": "4e019755-257c-484f-8286-82ff2f150ec2",
   "metadata": {},
   "outputs": [],
   "source": [
    "motion2d_files = glob.glob(\"../keypoints/*_2D.npy\", recursive=False)\n",
    "motion3d_files = glob.glob(\"../keypoints/*_3D.npy\", recursive=False)"
   ]
  },
  {
   "cell_type": "code",
   "execution_count": 7,
   "id": "b54ac2fc",
   "metadata": {},
   "outputs": [],
   "source": [
    "def get_camera_pose(world_pts, img_pts, camera):\n",
    "    fx = camera[\"fx\"]\n",
    "    fy = camera[\"fy\"]\n",
    "    cx = camera[\"cx\"]\n",
    "    cy = camera[\"cy\"]\n",
    "\n",
    "    K = np.array([[fx, 0, cx], [0, fy, cy], [0, 0, 1]], dtype=np.float32)\n",
    "\n",
    "    dist = np.zeros(4, dtype=np.float32)\n",
    "\n",
    "    success, rvec, tvec = cv2.solvePnP(\n",
    "        world_pts.astype(np.float32), img_pts.astype(np.float32), K, dist\n",
    "    )\n",
    "\n",
    "    if success:\n",
    "        R, _ = cv2.Rodrigues(rvec)\n",
    "        T = tvec.flatten()\n",
    "        return R, T\n",
    "    return None, None\n",
    "\n",
    "\n",
    "def world_to_cam(world_pose, R, T):\n",
    "    return np.dot(world_pose, R.T) + T\n"
   ]
  },
  {
   "cell_type": "code",
   "execution_count": 8,
   "id": "5e993511",
   "metadata": {},
   "outputs": [],
   "source": [
    "def load_db(pose_3ds, pose_2ds, camera):\n",
    "    pose_2ds[:, 0] = (pose_2ds[:, 0] * camera[\"cx\"] * 2).astype(int)\n",
    "    pose_2ds[:, 1] = (pose_2ds[:, 1] * camera[\"cy\"] * 2).astype(int)\n",
    "\n",
    "    data = {}\n",
    "    for key in [\n",
    "        \"pose_2d\",\n",
    "        \"pose_3d\",\n",
    "        \"cam_3d\",\n",
    "        \"image_3d\",\n",
    "        \"image_2.5d\",\n",
    "        \"2.5d_factor\",\n",
    "    ]:\n",
    "        data[key] = []\n",
    "    R, T = get_camera_pose(pose_3ds[0], pose_2ds[0][:, :2], camera)\n",
    "    for pose_2d, pose_3d in zip(pose_2ds, pose_3ds):\n",
    "        cam_3d = world_to_cam(pose_3d, R, T) * 1000\n",
    "        cam_3d_hat = cam_3d - cam_3d[0]\n",
    "\n",
    "        box = infer_box(pose3d=cam_3d, camera=camera, rootIdx=0)\n",
    "        img_3d = camera_to_image_frame(cam_3d, box, camera, rootIdx=0)\n",
    "        img_3d_hat = img_3d - img_3d[0]\n",
    "\n",
    "        #pred_lambda, losses = optimize_scaling_factor(img_3d_hat, cam_3d_hat)\n",
    "\n",
    "        #img_25d = img_3d * pred_lambda\n",
    "\n",
    "        data[\"pose_2d\"].append(np.array(pose_2d).copy())\n",
    "        data[\"pose_3d\"].append(np.array(pose_3d).copy())\n",
    "        data[\"cam_3d\"].append(np.array(cam_3d).copy())\n",
    "        data[\"image_3d\"].append(np.array(img_3d).copy())\n",
    "        #data[\"image_2.5d\"].append(np.array(img_25d).copy())\n",
    "        #data[\"2.5d_factor\"].append(np.array(pred_lambda).copy())\n",
    "\n",
    "    return data, np.array(pose_2d), np.array(img_3d)"
   ]
  },
  {
   "cell_type": "code",
   "execution_count": 11,
   "id": "3775ee12",
   "metadata": {},
   "outputs": [
    {
     "name": "stderr",
     "output_type": "stream",
     "text": [
      "100%|██████████| 3036/3036 [02:04<00:00, 24.33it/s]\n"
     ]
    }
   ],
   "source": [
    "import pickle\n",
    "import os\n",
    "from concurrent.futures import ThreadPoolExecutor, as_completed\n",
    "from tqdm import tqdm\n",
    "\n",
    "\n",
    "def process_file(file_2d):\n",
    "    file_3d = file_2d.replace(\"_2D.npy\", \"_3D.npy\")\n",
    "\n",
    "    # Check if pickle file already exists\n",
    "    filename = file_3d.replace(\"_3D.npy\", \".pkl\").replace(\"../keypoints\\\\\", \"\")\n",
    "\n",
    "    # if os.path.exists(os.path.join(output_dir, filename)):\n",
    "    #    return\n",
    "\n",
    "    fx, fy = 1000, 1000\n",
    "    cx, cy = 960.0, 540.0\n",
    "    camera = {\"fx\": fx, \"fy\": fy, \"cx\": cx, \"cy\": cy}\n",
    "\n",
    "    if file_3d in motion3d_files:\n",
    "        pose_2ds = np.load(file_2d)\n",
    "        pose_3ds = np.load(file_3d)\n",
    "\n",
    "        data, _, _ = load_db(pose_3ds, pose_2ds, camera)\n",
    "\n",
    "        with open(os.path.join(output_dir, filename), \"wb\") as f:\n",
    "            pickle.dump(data, f)\n",
    "\n",
    "\n",
    "# Multi-threaded execution\n",
    "max_workers = 4  # Adjust based on your system\n",
    "with ThreadPoolExecutor(max_workers=max_workers) as executor:\n",
    "    # Submit all tasks\n",
    "    futures = [executor.submit(process_file, file_2d) for file_2d in motion2d_files]\n",
    "\n",
    "    # Process completed tasks with progress bar\n",
    "    for future in tqdm(as_completed(futures), total=len(futures)):\n",
    "        try:\n",
    "            future.result()\n",
    "        except Exception as e:\n",
    "            print(f\"Error processing file: {e}\")"
   ]
  },
  {
   "cell_type": "code",
   "execution_count": 10,
   "id": "9f52db4e",
   "metadata": {},
   "outputs": [],
   "source": [
    "def convert_3dnpy():\n",
    "    for file_2d in tqdm(motion2d_files):\n",
    "        file_3d = file_2d.replace(\"_2D.npy\", \"_3D.npy\")\n",
    "\n",
    "        fx, fy = 650, 650\n",
    "        cx, cy = 960.0, 540.0\n",
    "        camera = {\"fx\": fx, \"fy\": fy, \"cx\": cx, \"cy\": cy}\n",
    "\n",
    "        if file_3d in motion3d_files:\n",
    "            pose_2ds = np.load(file_2d)\n",
    "            pose_3ds = np.load(file_3d)\n",
    "\n",
    "            data, _, motion_3d = load_db(pose_3ds, pose_2ds, camera)\n",
    "            \n",
    "            np.save(os.path.join(output_dir, file_3d), motion_3d)"
   ]
  },
  {
   "cell_type": "code",
   "execution_count": null,
   "id": "888d27cd",
   "metadata": {},
   "outputs": [],
   "source": []
  },
  {
   "cell_type": "code",
   "execution_count": null,
   "id": "1cc1c477",
   "metadata": {},
   "outputs": [],
   "source": []
  }
 ],
 "metadata": {
  "kernelspec": {
   "display_name": "Python 3",
   "language": "python",
   "name": "python3"
  },
  "language_info": {
   "codemirror_mode": {
    "name": "ipython",
    "version": 3
   },
   "file_extension": ".py",
   "mimetype": "text/x-python",
   "name": "python",
   "nbconvert_exporter": "python",
   "pygments_lexer": "ipython3",
   "version": "3.11.8"
  }
 },
 "nbformat": 4,
 "nbformat_minor": 5
}
